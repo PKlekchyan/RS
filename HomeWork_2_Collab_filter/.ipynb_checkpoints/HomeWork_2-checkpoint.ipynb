{
 "cells": [
  {
   "cell_type": "code",
   "execution_count": 1,
   "id": "lonely-reason",
   "metadata": {},
   "outputs": [],
   "source": [
    "import pandas as pd\n",
    "import numpy as np\n",
    "import matplotlib.pyplot as plt\n",
    "from tqdm.notebook import tqdm "
   ]
  },
  {
   "cell_type": "code",
   "execution_count": 2,
   "id": "short-colony",
   "metadata": {},
   "outputs": [],
   "source": [
    "import warnings\n",
    "warnings.filterwarnings('ignore')"
   ]
  },
  {
   "cell_type": "markdown",
   "id": "cheap-yeast",
   "metadata": {},
   "source": [
    "### Dataset на 1м записей мой компьютер не потянул, взял данные на 100к"
   ]
  },
  {
   "cell_type": "markdown",
   "id": "appropriate-neighborhood",
   "metadata": {},
   "source": [
    "#### Подготовка Датасета"
   ]
  },
  {
   "cell_type": "code",
   "execution_count": 3,
   "id": "daily-prefix",
   "metadata": {},
   "outputs": [],
   "source": [
    "movies = pd.read_csv('movies.csv')"
   ]
  },
  {
   "cell_type": "code",
   "execution_count": 4,
   "id": "musical-going",
   "metadata": {},
   "outputs": [],
   "source": [
    "ratings = pd.read_csv('ratings.csv')"
   ]
  },
  {
   "cell_type": "code",
   "execution_count": 5,
   "id": "competent-layout",
   "metadata": {},
   "outputs": [
    {
     "data": {
      "text/html": [
       "<div>\n",
       "<style scoped>\n",
       "    .dataframe tbody tr th:only-of-type {\n",
       "        vertical-align: middle;\n",
       "    }\n",
       "\n",
       "    .dataframe tbody tr th {\n",
       "        vertical-align: top;\n",
       "    }\n",
       "\n",
       "    .dataframe thead th {\n",
       "        text-align: right;\n",
       "    }\n",
       "</style>\n",
       "<table border=\"1\" class=\"dataframe\">\n",
       "  <thead>\n",
       "    <tr style=\"text-align: right;\">\n",
       "      <th></th>\n",
       "      <th>userId</th>\n",
       "      <th>movieId</th>\n",
       "      <th>rating</th>\n",
       "      <th>timestamp</th>\n",
       "    </tr>\n",
       "  </thead>\n",
       "  <tbody>\n",
       "    <tr>\n",
       "      <th>0</th>\n",
       "      <td>1</td>\n",
       "      <td>1</td>\n",
       "      <td>4.0</td>\n",
       "      <td>964982703</td>\n",
       "    </tr>\n",
       "    <tr>\n",
       "      <th>1</th>\n",
       "      <td>1</td>\n",
       "      <td>3</td>\n",
       "      <td>4.0</td>\n",
       "      <td>964981247</td>\n",
       "    </tr>\n",
       "    <tr>\n",
       "      <th>2</th>\n",
       "      <td>1</td>\n",
       "      <td>6</td>\n",
       "      <td>4.0</td>\n",
       "      <td>964982224</td>\n",
       "    </tr>\n",
       "    <tr>\n",
       "      <th>3</th>\n",
       "      <td>1</td>\n",
       "      <td>47</td>\n",
       "      <td>5.0</td>\n",
       "      <td>964983815</td>\n",
       "    </tr>\n",
       "    <tr>\n",
       "      <th>4</th>\n",
       "      <td>1</td>\n",
       "      <td>50</td>\n",
       "      <td>5.0</td>\n",
       "      <td>964982931</td>\n",
       "    </tr>\n",
       "  </tbody>\n",
       "</table>\n",
       "</div>"
      ],
      "text/plain": [
       "   userId  movieId  rating  timestamp\n",
       "0       1        1     4.0  964982703\n",
       "1       1        3     4.0  964981247\n",
       "2       1        6     4.0  964982224\n",
       "3       1       47     5.0  964983815\n",
       "4       1       50     5.0  964982931"
      ]
     },
     "execution_count": 5,
     "metadata": {},
     "output_type": "execute_result"
    }
   ],
   "source": [
    "ratings.head()"
   ]
  },
  {
   "cell_type": "code",
   "execution_count": 6,
   "id": "compatible-healing",
   "metadata": {},
   "outputs": [],
   "source": [
    "df = ratings.join(movies.set_index('movieId'), on='movieId')"
   ]
  },
  {
   "cell_type": "code",
   "execution_count": 7,
   "id": "toxic-yesterday",
   "metadata": {},
   "outputs": [],
   "source": [
    "dataset = pd.DataFrame({\n",
    "    'uid':df['userId'],\n",
    "    'mid': df['movieId'],\n",
    "    'rating':df['rating']\n",
    "})"
   ]
  },
  {
   "cell_type": "code",
   "execution_count": 8,
   "id": "suffering-identifier",
   "metadata": {},
   "outputs": [
    {
     "name": "stdout",
     "output_type": "stream",
     "text": [
      "<class 'pandas.core.frame.DataFrame'>\n",
      "RangeIndex: 100836 entries, 0 to 100835\n",
      "Data columns (total 3 columns):\n",
      " #   Column  Non-Null Count   Dtype  \n",
      "---  ------  --------------   -----  \n",
      " 0   uid     100836 non-null  int64  \n",
      " 1   mid     100836 non-null  int64  \n",
      " 2   rating  100836 non-null  float64\n",
      "dtypes: float64(1), int64(2)\n",
      "memory usage: 2.3 MB\n"
     ]
    }
   ],
   "source": [
    "dataset.info()"
   ]
  },
  {
   "cell_type": "code",
   "execution_count": 9,
   "id": "completed-extra",
   "metadata": {
    "scrolled": true
   },
   "outputs": [
    {
     "name": "stdout",
     "output_type": "stream",
     "text": [
      "0.5\n",
      "5.0\n"
     ]
    }
   ],
   "source": [
    "print(ratings['rating'].min())\n",
    "print(ratings['rating'].max())"
   ]
  },
  {
   "cell_type": "markdown",
   "id": "tight-briefs",
   "metadata": {},
   "source": [
    "#### Dataset Surprise"
   ]
  },
  {
   "cell_type": "code",
   "execution_count": 10,
   "id": "formal-provincial",
   "metadata": {},
   "outputs": [],
   "source": [
    "from surprise import KNNWithMeans, KNNBasic\n",
    "from surprise import Dataset, Reader, accuracy\n",
    "from surprise.model_selection import train_test_split, cross_validate"
   ]
  },
  {
   "cell_type": "code",
   "execution_count": 11,
   "id": "valuable-today",
   "metadata": {},
   "outputs": [],
   "source": [
    "reader = Reader(rating_scale=(0.5, 5))\n",
    "data = Dataset.load_from_df(dataset, reader)"
   ]
  },
  {
   "cell_type": "markdown",
   "id": "contained-dealer",
   "metadata": {},
   "source": [
    "#### Тетстируем без кросс-валидации"
   ]
  },
  {
   "cell_type": "code",
   "execution_count": 12,
   "id": "joint-assessment",
   "metadata": {},
   "outputs": [],
   "source": [
    "set_train, set_test = train_test_split(data, test_size=0.15, random_state=42)"
   ]
  },
  {
   "cell_type": "code",
   "execution_count": 13,
   "id": "authorized-virginia",
   "metadata": {},
   "outputs": [],
   "source": [
    "model = KNNWithMeans(k=50, sim_options={'name':'pearson_baseline', 'user_based':True})"
   ]
  },
  {
   "cell_type": "code",
   "execution_count": 14,
   "id": "consistent-arnold",
   "metadata": {},
   "outputs": [
    {
     "name": "stdout",
     "output_type": "stream",
     "text": [
      "Estimating biases using als...\n",
      "Computing the pearson_baseline similarity matrix...\n",
      "Done computing similarity matrix.\n"
     ]
    },
    {
     "data": {
      "text/plain": [
       "<surprise.prediction_algorithms.knns.KNNWithMeans at 0x2b3522a0c40>"
      ]
     },
     "execution_count": 14,
     "metadata": {},
     "output_type": "execute_result"
    }
   ],
   "source": [
    "model.fit(set_train)"
   ]
  },
  {
   "cell_type": "code",
   "execution_count": 15,
   "id": "fitted-radical",
   "metadata": {},
   "outputs": [],
   "source": [
    "set_pred = model.test(set_test)"
   ]
  },
  {
   "cell_type": "code",
   "execution_count": 16,
   "id": "oriental-stomach",
   "metadata": {
    "scrolled": true
   },
   "outputs": [
    {
     "name": "stdout",
     "output_type": "stream",
     "text": [
      "RMSE: 0.9046\n"
     ]
    },
    {
     "data": {
      "text/plain": [
       "0.9045807559577181"
      ]
     },
     "execution_count": 16,
     "metadata": {},
     "output_type": "execute_result"
    }
   ],
   "source": [
    "accuracy.rmse(set_pred, verbose=True)"
   ]
  },
  {
   "cell_type": "markdown",
   "id": "statutory-assets",
   "metadata": {},
   "source": [
    "#### Подберем гиперпараметры, заодно проведя кросс-валидацию на 5 фолдах "
   ]
  },
  {
   "cell_type": "code",
   "execution_count": 17,
   "id": "worse-waters",
   "metadata": {},
   "outputs": [],
   "source": [
    "from surprise.model_selection.search import RandomizedSearchCV"
   ]
  },
  {
   "cell_type": "code",
   "execution_count": 18,
   "id": "brave-variety",
   "metadata": {},
   "outputs": [],
   "source": [
    "params = {'k':[50, 51]}\n",
    "\n",
    "# , 'sim_options':[{'name':'pearson_baseline', 'user_based':True},\n",
    "#                                              {'name':'pearson_baseline', 'user_based':False}]"
   ]
  },
  {
   "cell_type": "code",
   "execution_count": 19,
   "id": "centered-number",
   "metadata": {
    "scrolled": false
   },
   "outputs": [],
   "source": [
    "# model_1 = KNNWithMeans()\n",
    "# result = RandomizedSearchCV(model_1, param_distributions = params, cv=5)"
   ]
  },
  {
   "cell_type": "markdown",
   "id": "powerful-analysis",
   "metadata": {},
   "source": [
    "### Не понимаю, в чем ошибка. Точнее, как ее решить"
   ]
  },
  {
   "cell_type": "markdown",
   "id": "written-painting",
   "metadata": {},
   "source": [
    "#### На наборе в 100к строк симитирую GridSearch на простых циклах"
   ]
  },
  {
   "cell_type": "code",
   "execution_count": 20,
   "id": "pleasant-moment",
   "metadata": {},
   "outputs": [],
   "source": [
    "K = [50, 100, 150]\n",
    "user_based = [True, False]\n",
    "score = {}\n",
    "\n",
    "# for k in tqdm(K):\n",
    "#     for option in user_based:\n",
    "#         model = KNNWithMeans(k=k, sim_options={'name':'pearson_baseline', 'user_based':option})\n",
    "#         score = cross_validate(model, data, measures=['rmse'], cv=5, n_jobs=-1)\n",
    "#         mean_score = score['test_rmse'].mean()\n",
    "#         print('RMSE = {}; k = {}; user_based = {}'.format(mean_score, k, option))"
   ]
  },
  {
   "cell_type": "markdown",
   "id": "endless-shield",
   "metadata": {},
   "source": [
    "#### Таким образом тоже комп не дотягивает"
   ]
  },
  {
   "cell_type": "markdown",
   "id": "alternative-combine",
   "metadata": {},
   "source": [
    "#### В таком случаем просто по отдельности посмотрим модели"
   ]
  },
  {
   "cell_type": "code",
   "execution_count": 24,
   "id": "collaborative-settlement",
   "metadata": {},
   "outputs": [
    {
     "name": "stdout",
     "output_type": "stream",
     "text": [
      "Evaluating RMSE of algorithm KNNWithMeans on 5 split(s).\n",
      "\n",
      "                  Fold 1  Fold 2  Fold 3  Fold 4  Fold 5  Mean    Std     \n",
      "RMSE (testset)    0.8939  0.8786  0.9019  0.9029  0.8954  0.8945  0.0087  \n",
      "Fit time          2.17    2.17    2.06    2.11    1.97    2.09    0.08    \n",
      "Test time         2.87    2.90    2.96    2.82    2.62    2.83    0.12    \n"
     ]
    }
   ],
   "source": [
    "model = KNNWithMeans(k=50, sim_options={'name':'pearson_baseline', 'user_based':True})\n",
    "score = cross_validate(model, data, measures=['rmse'], cv=5, n_jobs=-1, verbose=True)"
   ]
  },
  {
   "cell_type": "code",
   "execution_count": 25,
   "id": "chicken-silly",
   "metadata": {
    "scrolled": false
   },
   "outputs": [
    {
     "name": "stdout",
     "output_type": "stream",
     "text": [
      "Evaluating RMSE of algorithm KNNWithMeans on 5 split(s).\n",
      "\n",
      "                  Fold 1  Fold 2  Fold 3  Fold 4  Fold 5  Mean    Std     \n",
      "RMSE (testset)    0.8919  0.8978  0.8995  0.8994  0.8907  0.8959  0.0038  \n",
      "Fit time          2.39    2.42    2.35    2.27    2.04    2.29    0.14    \n",
      "Test time         3.12    3.19    3.24    3.14    2.71    3.08    0.19    \n"
     ]
    }
   ],
   "source": [
    "model = KNNWithMeans(k=100, sim_options={'name':'pearson_baseline', 'user_based':True})\n",
    "score = cross_validate(model, data, measures=['rmse'], cv=5, n_jobs=-1, verbose=True)"
   ]
  },
  {
   "cell_type": "markdown",
   "id": "coral-microphone",
   "metadata": {},
   "source": [
    "#### Комп не тянет item-to-item"
   ]
  },
  {
   "cell_type": "code",
   "execution_count": 30,
   "id": "abstract-wrestling",
   "metadata": {},
   "outputs": [],
   "source": [
    "model = KNNWithMeans(k=20, sim_options={'name':'pearson_baseline', 'user_based':False})\n",
    "# score = cross_validate(model, data, measures=['rmse'], cv=5, n_jobs=-1, verbose=True)"
   ]
  },
  {
   "cell_type": "code",
   "execution_count": 31,
   "id": "cloudy-headset",
   "metadata": {},
   "outputs": [],
   "source": [
    "model = KNNWithMeans(k=50, sim_options={'name':'pearson_baseline', 'user_based':False})\n",
    "# score = cross_validate(model, data, measures=['rmse'], cv=5, n_jobs=-1, verbose=True)"
   ]
  }
 ],
 "metadata": {
  "kernelspec": {
   "display_name": "Python 3",
   "language": "python",
   "name": "python3"
  },
  "language_info": {
   "codemirror_mode": {
    "name": "ipython",
    "version": 3
   },
   "file_extension": ".py",
   "mimetype": "text/x-python",
   "name": "python",
   "nbconvert_exporter": "python",
   "pygments_lexer": "ipython3",
   "version": "3.9.0"
  }
 },
 "nbformat": 4,
 "nbformat_minor": 5
}
