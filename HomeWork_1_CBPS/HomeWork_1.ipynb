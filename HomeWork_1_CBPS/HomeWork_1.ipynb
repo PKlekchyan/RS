{
 "cells": [
  {
   "cell_type": "code",
   "execution_count": 2,
   "id": "major-series",
   "metadata": {},
   "outputs": [],
   "source": [
    "import pandas as pd\n",
    "import numpy as np\n",
    "import matplotlib.pyplot as plt\n",
    "import seaborn as sns\n",
    "\n",
    "from tqdm.notebook import tqdm"
   ]
  },
  {
   "cell_type": "code",
   "execution_count": 3,
   "id": "together-complaint",
   "metadata": {},
   "outputs": [],
   "source": [
    "import warnings\n",
    "warnings.filterwarnings('ignore')"
   ]
  },
  {
   "cell_type": "code",
   "execution_count": 4,
   "id": "touched-library",
   "metadata": {},
   "outputs": [],
   "source": [
    "movies = pd.read_csv('movies.csv')\n",
    "ratings = pd.read_csv('ratings.csv')\n",
    "tags = pd.read_csv('tags.csv')"
   ]
  },
  {
   "cell_type": "markdown",
   "id": "ancient-appendix",
   "metadata": {},
   "source": [
    "### Нагенерим фичей: подготовим теги и жанры к работе с текстом, вычислим среднюю оценку по фильму, разброс"
   ]
  },
  {
   "cell_type": "markdown",
   "id": "southwest-history",
   "metadata": {},
   "source": [
    "#### Предобработка жанров"
   ]
  },
  {
   "cell_type": "code",
   "execution_count": 5,
   "id": "remarkable-harvey",
   "metadata": {},
   "outputs": [],
   "source": [
    "def get_space_genres(param):\n",
    "    return ' '.join(param.replace(' ', '').replace('-', '').split('|'))"
   ]
  },
  {
   "cell_type": "code",
   "execution_count": 6,
   "id": "higher-cleveland",
   "metadata": {},
   "outputs": [
    {
     "data": {
      "text/html": [
       "<div>\n",
       "<style scoped>\n",
       "    .dataframe tbody tr th:only-of-type {\n",
       "        vertical-align: middle;\n",
       "    }\n",
       "\n",
       "    .dataframe tbody tr th {\n",
       "        vertical-align: top;\n",
       "    }\n",
       "\n",
       "    .dataframe thead th {\n",
       "        text-align: right;\n",
       "    }\n",
       "</style>\n",
       "<table border=\"1\" class=\"dataframe\">\n",
       "  <thead>\n",
       "    <tr style=\"text-align: right;\">\n",
       "      <th></th>\n",
       "      <th>movieId</th>\n",
       "      <th>title</th>\n",
       "      <th>genres</th>\n",
       "    </tr>\n",
       "  </thead>\n",
       "  <tbody>\n",
       "    <tr>\n",
       "      <th>0</th>\n",
       "      <td>1</td>\n",
       "      <td>Toy Story (1995)</td>\n",
       "      <td>Adventure Animation Children Comedy Fantasy</td>\n",
       "    </tr>\n",
       "    <tr>\n",
       "      <th>1</th>\n",
       "      <td>2</td>\n",
       "      <td>Jumanji (1995)</td>\n",
       "      <td>Adventure Children Fantasy</td>\n",
       "    </tr>\n",
       "    <tr>\n",
       "      <th>2</th>\n",
       "      <td>3</td>\n",
       "      <td>Grumpier Old Men (1995)</td>\n",
       "      <td>Comedy Romance</td>\n",
       "    </tr>\n",
       "    <tr>\n",
       "      <th>3</th>\n",
       "      <td>4</td>\n",
       "      <td>Waiting to Exhale (1995)</td>\n",
       "      <td>Comedy Drama Romance</td>\n",
       "    </tr>\n",
       "    <tr>\n",
       "      <th>4</th>\n",
       "      <td>5</td>\n",
       "      <td>Father of the Bride Part II (1995)</td>\n",
       "      <td>Comedy</td>\n",
       "    </tr>\n",
       "  </tbody>\n",
       "</table>\n",
       "</div>"
      ],
      "text/plain": [
       "   movieId                               title  \\\n",
       "0        1                    Toy Story (1995)   \n",
       "1        2                      Jumanji (1995)   \n",
       "2        3             Grumpier Old Men (1995)   \n",
       "3        4            Waiting to Exhale (1995)   \n",
       "4        5  Father of the Bride Part II (1995)   \n",
       "\n",
       "                                        genres  \n",
       "0  Adventure Animation Children Comedy Fantasy  \n",
       "1                   Adventure Children Fantasy  \n",
       "2                               Comedy Romance  \n",
       "3                         Comedy Drama Romance  \n",
       "4                                       Comedy  "
      ]
     },
     "execution_count": 6,
     "metadata": {},
     "output_type": "execute_result"
    }
   ],
   "source": [
    "movies['genres'] = movies['genres'].apply(get_space_genres)\n",
    "movies.head()"
   ]
  },
  {
   "cell_type": "markdown",
   "id": "innovative-timothy",
   "metadata": {},
   "source": [
    "#### Предобработка тегов"
   ]
  },
  {
   "cell_type": "code",
   "execution_count": 7,
   "id": "horizontal-prayer",
   "metadata": {},
   "outputs": [],
   "source": [
    "tag_strings = []\n",
    "movieId = []\n",
    "\n",
    "for movie, group in tags.groupby('movieId'):\n",
    "    tag_strings.append(' '.join([str(s).replace(' ', '').replace('-', '') for s in group.tag.values]))\n",
    "    movieId.append(movie)"
   ]
  },
  {
   "cell_type": "code",
   "execution_count": 8,
   "id": "subjective-hundred",
   "metadata": {
    "scrolled": true
   },
   "outputs": [
    {
     "data": {
      "text/html": [
       "<div>\n",
       "<style scoped>\n",
       "    .dataframe tbody tr th:only-of-type {\n",
       "        vertical-align: middle;\n",
       "    }\n",
       "\n",
       "    .dataframe tbody tr th {\n",
       "        vertical-align: top;\n",
       "    }\n",
       "\n",
       "    .dataframe thead th {\n",
       "        text-align: right;\n",
       "    }\n",
       "</style>\n",
       "<table border=\"1\" class=\"dataframe\">\n",
       "  <thead>\n",
       "    <tr style=\"text-align: right;\">\n",
       "      <th></th>\n",
       "      <th>movieId</th>\n",
       "      <th>tags</th>\n",
       "    </tr>\n",
       "  </thead>\n",
       "  <tbody>\n",
       "    <tr>\n",
       "      <th>0</th>\n",
       "      <td>1</td>\n",
       "      <td>pixar pixar fun</td>\n",
       "    </tr>\n",
       "    <tr>\n",
       "      <th>1</th>\n",
       "      <td>2</td>\n",
       "      <td>fantasy magicboardgame RobinWilliams game</td>\n",
       "    </tr>\n",
       "    <tr>\n",
       "      <th>2</th>\n",
       "      <td>3</td>\n",
       "      <td>moldy old</td>\n",
       "    </tr>\n",
       "    <tr>\n",
       "      <th>3</th>\n",
       "      <td>5</td>\n",
       "      <td>pregnancy remake</td>\n",
       "    </tr>\n",
       "    <tr>\n",
       "      <th>4</th>\n",
       "      <td>7</td>\n",
       "      <td>remake</td>\n",
       "    </tr>\n",
       "    <tr>\n",
       "      <th>...</th>\n",
       "      <td>...</td>\n",
       "      <td>...</td>\n",
       "    </tr>\n",
       "    <tr>\n",
       "      <th>1567</th>\n",
       "      <td>183611</td>\n",
       "      <td>Comedy funny RachelMcAdams</td>\n",
       "    </tr>\n",
       "    <tr>\n",
       "      <th>1568</th>\n",
       "      <td>184471</td>\n",
       "      <td>adventure AliciaVikander videogameadaptation</td>\n",
       "    </tr>\n",
       "    <tr>\n",
       "      <th>1569</th>\n",
       "      <td>187593</td>\n",
       "      <td>JoshBrolin RyanReynolds sarcasm</td>\n",
       "    </tr>\n",
       "    <tr>\n",
       "      <th>1570</th>\n",
       "      <td>187595</td>\n",
       "      <td>EmiliaClarke starwars</td>\n",
       "    </tr>\n",
       "    <tr>\n",
       "      <th>1571</th>\n",
       "      <td>193565</td>\n",
       "      <td>anime comedy gintama remaster</td>\n",
       "    </tr>\n",
       "  </tbody>\n",
       "</table>\n",
       "<p>1572 rows × 2 columns</p>\n",
       "</div>"
      ],
      "text/plain": [
       "      movieId                                          tags\n",
       "0           1                               pixar pixar fun\n",
       "1           2     fantasy magicboardgame RobinWilliams game\n",
       "2           3                                     moldy old\n",
       "3           5                              pregnancy remake\n",
       "4           7                                        remake\n",
       "...       ...                                           ...\n",
       "1567   183611                    Comedy funny RachelMcAdams\n",
       "1568   184471  adventure AliciaVikander videogameadaptation\n",
       "1569   187593               JoshBrolin RyanReynolds sarcasm\n",
       "1570   187595                         EmiliaClarke starwars\n",
       "1571   193565                 anime comedy gintama remaster\n",
       "\n",
       "[1572 rows x 2 columns]"
      ]
     },
     "execution_count": 8,
     "metadata": {},
     "output_type": "execute_result"
    }
   ],
   "source": [
    "tags_df = pd.DataFrame(tag_strings, movieId, columns=['tags']).reset_index().rename(columns={'index':'movieId'})\n",
    "tags_df"
   ]
  },
  {
   "cell_type": "markdown",
   "id": "competitive-tribune",
   "metadata": {},
   "source": [
    "#### Поработаем с рейтингом"
   ]
  },
  {
   "cell_type": "code",
   "execution_count": 9,
   "id": "italic-christian",
   "metadata": {},
   "outputs": [],
   "source": [
    "df_ratings = ratings.groupby('movieId').agg([np.mean, np.std, np.median, np.var])['rating'].reset_index()"
   ]
  },
  {
   "cell_type": "code",
   "execution_count": 10,
   "id": "tested-atlanta",
   "metadata": {
    "scrolled": true
   },
   "outputs": [
    {
     "name": "stdout",
     "output_type": "stream",
     "text": [
      "<class 'pandas.core.frame.DataFrame'>\n",
      "RangeIndex: 9724 entries, 0 to 9723\n",
      "Data columns (total 5 columns):\n",
      " #   Column       Non-Null Count  Dtype  \n",
      "---  ------       --------------  -----  \n",
      " 0   movieId      9724 non-null   int64  \n",
      " 1   mean_rating  9724 non-null   float64\n",
      " 2   std          6278 non-null   float64\n",
      " 3   median       9724 non-null   float64\n",
      " 4   var          6278 non-null   float64\n",
      "dtypes: float64(4), int64(1)\n",
      "memory usage: 380.0 KB\n"
     ]
    }
   ],
   "source": [
    "df_ratings = df_ratings.rename(columns={'mean':'mean_rating'})\n",
    "df_ratings.info()"
   ]
  },
  {
   "cell_type": "markdown",
   "id": "outside-mexican",
   "metadata": {},
   "source": [
    "#### Соединим DF"
   ]
  },
  {
   "cell_type": "code",
   "execution_count": 11,
   "id": "quiet-johnston",
   "metadata": {},
   "outputs": [],
   "source": [
    "df = movies.merge(tags_df, on='movieId', how='left')\n",
    "df = df.merge(df_ratings, on='movieId', how='left')"
   ]
  },
  {
   "cell_type": "code",
   "execution_count": 12,
   "id": "chemical-immigration",
   "metadata": {},
   "outputs": [],
   "source": [
    "df_1 = ratings.merge(df)"
   ]
  },
  {
   "cell_type": "code",
   "execution_count": 13,
   "id": "sonic-tackle",
   "metadata": {},
   "outputs": [],
   "source": [
    "df_1['std'] = df_1['std'].fillna(0)\n",
    "df_1['var'] = df_1['var'].fillna(0)"
   ]
  },
  {
   "cell_type": "code",
   "execution_count": 14,
   "id": "entire-certification",
   "metadata": {
    "scrolled": true
   },
   "outputs": [
    {
     "name": "stdout",
     "output_type": "stream",
     "text": [
      "<class 'pandas.core.frame.DataFrame'>\n",
      "Int64Index: 100836 entries, 0 to 100835\n",
      "Data columns (total 11 columns):\n",
      " #   Column       Non-Null Count   Dtype  \n",
      "---  ------       --------------   -----  \n",
      " 0   userId       100836 non-null  int64  \n",
      " 1   movieId      100836 non-null  int64  \n",
      " 2   rating       100836 non-null  float64\n",
      " 3   timestamp    100836 non-null  int64  \n",
      " 4   title        100836 non-null  object \n",
      " 5   genres       100836 non-null  object \n",
      " 6   tags         48287 non-null   object \n",
      " 7   mean_rating  100836 non-null  float64\n",
      " 8   std          100836 non-null  float64\n",
      " 9   median       100836 non-null  float64\n",
      " 10  var          100836 non-null  float64\n",
      "dtypes: float64(5), int64(3), object(3)\n",
      "memory usage: 9.2+ MB\n"
     ]
    }
   ],
   "source": [
    "df_1.info()"
   ]
  },
  {
   "cell_type": "markdown",
   "id": "necessary-perth",
   "metadata": {},
   "source": [
    "#### Достанем год из названия фильма"
   ]
  },
  {
   "cell_type": "code",
   "execution_count": 15,
   "id": "pretty-shirt",
   "metadata": {},
   "outputs": [],
   "source": [
    "import re"
   ]
  },
  {
   "cell_type": "code",
   "execution_count": 16,
   "id": "unexpected-ottawa",
   "metadata": {},
   "outputs": [],
   "source": [
    "def get_year(param):\n",
    "    res = re.search(r'\\d{4}', param)\n",
    "    if res != None:\n",
    "        return int(res.group(0))\n",
    "    else:\n",
    "        return 0"
   ]
  },
  {
   "cell_type": "code",
   "execution_count": 17,
   "id": "progressive-avatar",
   "metadata": {},
   "outputs": [],
   "source": [
    "df_1['year'] = df_1['title'].apply(get_year)"
   ]
  },
  {
   "cell_type": "markdown",
   "id": "gorgeous-arena",
   "metadata": {},
   "source": [
    "#### Преобразуем timestamp к году"
   ]
  },
  {
   "cell_type": "code",
   "execution_count": 18,
   "id": "nervous-operation",
   "metadata": {},
   "outputs": [],
   "source": [
    "def time_to_year(param):\n",
    "    sec_in_year = 31536000\n",
    "    res = param/sec_in_year + 1970\n",
    "    return int(round(res, 0))"
   ]
  },
  {
   "cell_type": "code",
   "execution_count": 19,
   "id": "lyric-might",
   "metadata": {},
   "outputs": [],
   "source": [
    "df_1['year_view'] = df_1['timestamp'].apply(time_to_year)"
   ]
  },
  {
   "cell_type": "markdown",
   "id": "delayed-america",
   "metadata": {},
   "source": [
    "#### Добавим столбец с временем между выходом фильма и просмотром"
   ]
  },
  {
   "cell_type": "code",
   "execution_count": 20,
   "id": "alternate-gender",
   "metadata": {},
   "outputs": [
    {
     "data": {
      "text/plain": [
       "11.0"
      ]
     },
     "execution_count": 20,
     "metadata": {},
     "output_type": "execute_result"
    }
   ],
   "source": [
    "df_1['year_view'].median() - df_1['year'].median()"
   ]
  },
  {
   "cell_type": "code",
   "execution_count": 21,
   "id": "certified-gospel",
   "metadata": {},
   "outputs": [],
   "source": [
    "def get_time_beetwen(row):\n",
    "    if row['year'] != 0 and row['year'] < row['year_view']:\n",
    "        return row['year_view'] - row['year']\n",
    "    else:\n",
    "        return 11"
   ]
  },
  {
   "cell_type": "code",
   "execution_count": 22,
   "id": "perfect-channels",
   "metadata": {},
   "outputs": [],
   "source": [
    "df_1['time_between'] = df_1.apply(get_time_beetwen, axis=1)"
   ]
  },
  {
   "cell_type": "markdown",
   "id": "chicken-playing",
   "metadata": {},
   "source": [
    "#### Удaлим ненужные столбцы"
   ]
  },
  {
   "cell_type": "code",
   "execution_count": 23,
   "id": "fatal-belief",
   "metadata": {},
   "outputs": [],
   "source": [
    "df_2 = df_1.drop(columns=['userId', 'movieId', 'timestamp', 'title'])"
   ]
  },
  {
   "cell_type": "code",
   "execution_count": 24,
   "id": "military-dallas",
   "metadata": {},
   "outputs": [
    {
     "name": "stdout",
     "output_type": "stream",
     "text": [
      "<class 'pandas.core.frame.DataFrame'>\n",
      "Int64Index: 100836 entries, 0 to 100835\n",
      "Data columns (total 10 columns):\n",
      " #   Column        Non-Null Count   Dtype  \n",
      "---  ------        --------------   -----  \n",
      " 0   rating        100836 non-null  float64\n",
      " 1   genres        100836 non-null  object \n",
      " 2   tags          48287 non-null   object \n",
      " 3   mean_rating   100836 non-null  float64\n",
      " 4   std           100836 non-null  float64\n",
      " 5   median        100836 non-null  float64\n",
      " 6   var           100836 non-null  float64\n",
      " 7   year          100836 non-null  int64  \n",
      " 8   year_view     100836 non-null  int64  \n",
      " 9   time_between  100836 non-null  int64  \n",
      "dtypes: float64(5), int64(3), object(2)\n",
      "memory usage: 8.5+ MB\n"
     ]
    }
   ],
   "source": [
    "df_2.info()"
   ]
  },
  {
   "cell_type": "markdown",
   "id": "pretty-fellowship",
   "metadata": {},
   "source": [
    "### Преобразуем TfIdf"
   ]
  },
  {
   "cell_type": "code",
   "execution_count": 25,
   "id": "alleged-arizona",
   "metadata": {},
   "outputs": [],
   "source": [
    "from sklearn.feature_extraction.text import TfidfTransformer, CountVectorizer, TfidfVectorizer"
   ]
  },
  {
   "cell_type": "code",
   "execution_count": 26,
   "id": "creative-enhancement",
   "metadata": {},
   "outputs": [],
   "source": [
    "cv = CountVectorizer()\n",
    "x_count_genres = cv.fit_transform(df_2['genres'])"
   ]
  },
  {
   "cell_type": "code",
   "execution_count": 27,
   "id": "ideal-evaluation",
   "metadata": {},
   "outputs": [],
   "source": [
    "td = TfidfTransformer()\n",
    "x_td_genres = td.fit_transform(x_count_genres)"
   ]
  },
  {
   "cell_type": "code",
   "execution_count": 28,
   "id": "diverse-laundry",
   "metadata": {},
   "outputs": [],
   "source": [
    "df_td_genres = pd.DataFrame(x_td_genres.toarray())"
   ]
  },
  {
   "cell_type": "code",
   "execution_count": 29,
   "id": "regulated-nickel",
   "metadata": {},
   "outputs": [
    {
     "data": {
      "text/html": [
       "<div>\n",
       "<style scoped>\n",
       "    .dataframe tbody tr th:only-of-type {\n",
       "        vertical-align: middle;\n",
       "    }\n",
       "\n",
       "    .dataframe tbody tr th {\n",
       "        vertical-align: top;\n",
       "    }\n",
       "\n",
       "    .dataframe thead th {\n",
       "        text-align: right;\n",
       "    }\n",
       "</style>\n",
       "<table border=\"1\" class=\"dataframe\">\n",
       "  <thead>\n",
       "    <tr style=\"text-align: right;\">\n",
       "      <th></th>\n",
       "      <th>0</th>\n",
       "      <th>1</th>\n",
       "      <th>2</th>\n",
       "      <th>3</th>\n",
       "      <th>4</th>\n",
       "      <th>5</th>\n",
       "      <th>6</th>\n",
       "      <th>7</th>\n",
       "      <th>8</th>\n",
       "      <th>9</th>\n",
       "      <th>10</th>\n",
       "      <th>11</th>\n",
       "      <th>12</th>\n",
       "      <th>13</th>\n",
       "      <th>14</th>\n",
       "      <th>15</th>\n",
       "      <th>16</th>\n",
       "      <th>17</th>\n",
       "      <th>18</th>\n",
       "      <th>19</th>\n",
       "    </tr>\n",
       "  </thead>\n",
       "  <tbody>\n",
       "    <tr>\n",
       "      <th>0</th>\n",
       "      <td>0.0</td>\n",
       "      <td>0.363885</td>\n",
       "      <td>0.549735</td>\n",
       "      <td>0.508407</td>\n",
       "      <td>0.291944</td>\n",
       "      <td>0.0</td>\n",
       "      <td>0.0</td>\n",
       "      <td>0.0</td>\n",
       "      <td>0.470819</td>\n",
       "      <td>0.0</td>\n",
       "      <td>0.0</td>\n",
       "      <td>0.0</td>\n",
       "      <td>0.0</td>\n",
       "      <td>0.0</td>\n",
       "      <td>0.0</td>\n",
       "      <td>0.0</td>\n",
       "      <td>0.0</td>\n",
       "      <td>0.0</td>\n",
       "      <td>0.0</td>\n",
       "      <td>0.0</td>\n",
       "    </tr>\n",
       "    <tr>\n",
       "      <th>1</th>\n",
       "      <td>0.0</td>\n",
       "      <td>0.363885</td>\n",
       "      <td>0.549735</td>\n",
       "      <td>0.508407</td>\n",
       "      <td>0.291944</td>\n",
       "      <td>0.0</td>\n",
       "      <td>0.0</td>\n",
       "      <td>0.0</td>\n",
       "      <td>0.470819</td>\n",
       "      <td>0.0</td>\n",
       "      <td>0.0</td>\n",
       "      <td>0.0</td>\n",
       "      <td>0.0</td>\n",
       "      <td>0.0</td>\n",
       "      <td>0.0</td>\n",
       "      <td>0.0</td>\n",
       "      <td>0.0</td>\n",
       "      <td>0.0</td>\n",
       "      <td>0.0</td>\n",
       "      <td>0.0</td>\n",
       "    </tr>\n",
       "    <tr>\n",
       "      <th>2</th>\n",
       "      <td>0.0</td>\n",
       "      <td>0.363885</td>\n",
       "      <td>0.549735</td>\n",
       "      <td>0.508407</td>\n",
       "      <td>0.291944</td>\n",
       "      <td>0.0</td>\n",
       "      <td>0.0</td>\n",
       "      <td>0.0</td>\n",
       "      <td>0.470819</td>\n",
       "      <td>0.0</td>\n",
       "      <td>0.0</td>\n",
       "      <td>0.0</td>\n",
       "      <td>0.0</td>\n",
       "      <td>0.0</td>\n",
       "      <td>0.0</td>\n",
       "      <td>0.0</td>\n",
       "      <td>0.0</td>\n",
       "      <td>0.0</td>\n",
       "      <td>0.0</td>\n",
       "      <td>0.0</td>\n",
       "    </tr>\n",
       "    <tr>\n",
       "      <th>3</th>\n",
       "      <td>0.0</td>\n",
       "      <td>0.363885</td>\n",
       "      <td>0.549735</td>\n",
       "      <td>0.508407</td>\n",
       "      <td>0.291944</td>\n",
       "      <td>0.0</td>\n",
       "      <td>0.0</td>\n",
       "      <td>0.0</td>\n",
       "      <td>0.470819</td>\n",
       "      <td>0.0</td>\n",
       "      <td>0.0</td>\n",
       "      <td>0.0</td>\n",
       "      <td>0.0</td>\n",
       "      <td>0.0</td>\n",
       "      <td>0.0</td>\n",
       "      <td>0.0</td>\n",
       "      <td>0.0</td>\n",
       "      <td>0.0</td>\n",
       "      <td>0.0</td>\n",
       "      <td>0.0</td>\n",
       "    </tr>\n",
       "    <tr>\n",
       "      <th>4</th>\n",
       "      <td>0.0</td>\n",
       "      <td>0.363885</td>\n",
       "      <td>0.549735</td>\n",
       "      <td>0.508407</td>\n",
       "      <td>0.291944</td>\n",
       "      <td>0.0</td>\n",
       "      <td>0.0</td>\n",
       "      <td>0.0</td>\n",
       "      <td>0.470819</td>\n",
       "      <td>0.0</td>\n",
       "      <td>0.0</td>\n",
       "      <td>0.0</td>\n",
       "      <td>0.0</td>\n",
       "      <td>0.0</td>\n",
       "      <td>0.0</td>\n",
       "      <td>0.0</td>\n",
       "      <td>0.0</td>\n",
       "      <td>0.0</td>\n",
       "      <td>0.0</td>\n",
       "      <td>0.0</td>\n",
       "    </tr>\n",
       "  </tbody>\n",
       "</table>\n",
       "</div>"
      ],
      "text/plain": [
       "    0         1         2         3         4    5    6    7         8    9   \\\n",
       "0  0.0  0.363885  0.549735  0.508407  0.291944  0.0  0.0  0.0  0.470819  0.0   \n",
       "1  0.0  0.363885  0.549735  0.508407  0.291944  0.0  0.0  0.0  0.470819  0.0   \n",
       "2  0.0  0.363885  0.549735  0.508407  0.291944  0.0  0.0  0.0  0.470819  0.0   \n",
       "3  0.0  0.363885  0.549735  0.508407  0.291944  0.0  0.0  0.0  0.470819  0.0   \n",
       "4  0.0  0.363885  0.549735  0.508407  0.291944  0.0  0.0  0.0  0.470819  0.0   \n",
       "\n",
       "    10   11   12   13   14   15   16   17   18   19  \n",
       "0  0.0  0.0  0.0  0.0  0.0  0.0  0.0  0.0  0.0  0.0  \n",
       "1  0.0  0.0  0.0  0.0  0.0  0.0  0.0  0.0  0.0  0.0  \n",
       "2  0.0  0.0  0.0  0.0  0.0  0.0  0.0  0.0  0.0  0.0  \n",
       "3  0.0  0.0  0.0  0.0  0.0  0.0  0.0  0.0  0.0  0.0  \n",
       "4  0.0  0.0  0.0  0.0  0.0  0.0  0.0  0.0  0.0  0.0  "
      ]
     },
     "execution_count": 29,
     "metadata": {},
     "output_type": "execute_result"
    }
   ],
   "source": [
    "df_td_genres.head()"
   ]
  },
  {
   "cell_type": "markdown",
   "id": "lyric-highland",
   "metadata": {},
   "source": [
    "### Concat"
   ]
  },
  {
   "cell_type": "code",
   "execution_count": 30,
   "id": "dressed-enough",
   "metadata": {},
   "outputs": [],
   "source": [
    "df_with_tf_genres = pd.concat([df_2, df_td_genres], axis=1).drop(columns=['genres', 'tags'])"
   ]
  },
  {
   "cell_type": "code",
   "execution_count": 31,
   "id": "looking-copper",
   "metadata": {},
   "outputs": [
    {
     "data": {
      "text/html": [
       "<div>\n",
       "<style scoped>\n",
       "    .dataframe tbody tr th:only-of-type {\n",
       "        vertical-align: middle;\n",
       "    }\n",
       "\n",
       "    .dataframe tbody tr th {\n",
       "        vertical-align: top;\n",
       "    }\n",
       "\n",
       "    .dataframe thead th {\n",
       "        text-align: right;\n",
       "    }\n",
       "</style>\n",
       "<table border=\"1\" class=\"dataframe\">\n",
       "  <thead>\n",
       "    <tr style=\"text-align: right;\">\n",
       "      <th></th>\n",
       "      <th>rating</th>\n",
       "      <th>mean_rating</th>\n",
       "      <th>std</th>\n",
       "      <th>median</th>\n",
       "      <th>var</th>\n",
       "      <th>year</th>\n",
       "      <th>year_view</th>\n",
       "      <th>time_between</th>\n",
       "      <th>0</th>\n",
       "      <th>1</th>\n",
       "      <th>...</th>\n",
       "      <th>10</th>\n",
       "      <th>11</th>\n",
       "      <th>12</th>\n",
       "      <th>13</th>\n",
       "      <th>14</th>\n",
       "      <th>15</th>\n",
       "      <th>16</th>\n",
       "      <th>17</th>\n",
       "      <th>18</th>\n",
       "      <th>19</th>\n",
       "    </tr>\n",
       "  </thead>\n",
       "  <tbody>\n",
       "    <tr>\n",
       "      <th>0</th>\n",
       "      <td>4.0</td>\n",
       "      <td>3.92093</td>\n",
       "      <td>0.834859</td>\n",
       "      <td>4.0</td>\n",
       "      <td>0.69699</td>\n",
       "      <td>1995</td>\n",
       "      <td>2001</td>\n",
       "      <td>6</td>\n",
       "      <td>0.000000</td>\n",
       "      <td>0.363885</td>\n",
       "      <td>...</td>\n",
       "      <td>0.000000</td>\n",
       "      <td>0.0</td>\n",
       "      <td>0.0</td>\n",
       "      <td>0.0</td>\n",
       "      <td>0.0</td>\n",
       "      <td>0.0</td>\n",
       "      <td>0.0</td>\n",
       "      <td>0.000000</td>\n",
       "      <td>0.0</td>\n",
       "      <td>0.0</td>\n",
       "    </tr>\n",
       "    <tr>\n",
       "      <th>1</th>\n",
       "      <td>4.0</td>\n",
       "      <td>3.92093</td>\n",
       "      <td>0.834859</td>\n",
       "      <td>4.0</td>\n",
       "      <td>0.69699</td>\n",
       "      <td>1995</td>\n",
       "      <td>1997</td>\n",
       "      <td>2</td>\n",
       "      <td>0.000000</td>\n",
       "      <td>0.363885</td>\n",
       "      <td>...</td>\n",
       "      <td>0.000000</td>\n",
       "      <td>0.0</td>\n",
       "      <td>0.0</td>\n",
       "      <td>0.0</td>\n",
       "      <td>0.0</td>\n",
       "      <td>0.0</td>\n",
       "      <td>0.0</td>\n",
       "      <td>0.000000</td>\n",
       "      <td>0.0</td>\n",
       "      <td>0.0</td>\n",
       "    </tr>\n",
       "    <tr>\n",
       "      <th>2</th>\n",
       "      <td>4.5</td>\n",
       "      <td>3.92093</td>\n",
       "      <td>0.834859</td>\n",
       "      <td>4.0</td>\n",
       "      <td>0.69699</td>\n",
       "      <td>1995</td>\n",
       "      <td>2005</td>\n",
       "      <td>10</td>\n",
       "      <td>0.000000</td>\n",
       "      <td>0.363885</td>\n",
       "      <td>...</td>\n",
       "      <td>0.000000</td>\n",
       "      <td>0.0</td>\n",
       "      <td>0.0</td>\n",
       "      <td>0.0</td>\n",
       "      <td>0.0</td>\n",
       "      <td>0.0</td>\n",
       "      <td>0.0</td>\n",
       "      <td>0.000000</td>\n",
       "      <td>0.0</td>\n",
       "      <td>0.0</td>\n",
       "    </tr>\n",
       "    <tr>\n",
       "      <th>3</th>\n",
       "      <td>2.5</td>\n",
       "      <td>3.92093</td>\n",
       "      <td>0.834859</td>\n",
       "      <td>4.0</td>\n",
       "      <td>0.69699</td>\n",
       "      <td>1995</td>\n",
       "      <td>2018</td>\n",
       "      <td>23</td>\n",
       "      <td>0.000000</td>\n",
       "      <td>0.363885</td>\n",
       "      <td>...</td>\n",
       "      <td>0.000000</td>\n",
       "      <td>0.0</td>\n",
       "      <td>0.0</td>\n",
       "      <td>0.0</td>\n",
       "      <td>0.0</td>\n",
       "      <td>0.0</td>\n",
       "      <td>0.0</td>\n",
       "      <td>0.000000</td>\n",
       "      <td>0.0</td>\n",
       "      <td>0.0</td>\n",
       "    </tr>\n",
       "    <tr>\n",
       "      <th>4</th>\n",
       "      <td>4.5</td>\n",
       "      <td>3.92093</td>\n",
       "      <td>0.834859</td>\n",
       "      <td>4.0</td>\n",
       "      <td>0.69699</td>\n",
       "      <td>1995</td>\n",
       "      <td>2011</td>\n",
       "      <td>16</td>\n",
       "      <td>0.000000</td>\n",
       "      <td>0.363885</td>\n",
       "      <td>...</td>\n",
       "      <td>0.000000</td>\n",
       "      <td>0.0</td>\n",
       "      <td>0.0</td>\n",
       "      <td>0.0</td>\n",
       "      <td>0.0</td>\n",
       "      <td>0.0</td>\n",
       "      <td>0.0</td>\n",
       "      <td>0.000000</td>\n",
       "      <td>0.0</td>\n",
       "      <td>0.0</td>\n",
       "    </tr>\n",
       "    <tr>\n",
       "      <th>...</th>\n",
       "      <td>...</td>\n",
       "      <td>...</td>\n",
       "      <td>...</td>\n",
       "      <td>...</td>\n",
       "      <td>...</td>\n",
       "      <td>...</td>\n",
       "      <td>...</td>\n",
       "      <td>...</td>\n",
       "      <td>...</td>\n",
       "      <td>...</td>\n",
       "      <td>...</td>\n",
       "      <td>...</td>\n",
       "      <td>...</td>\n",
       "      <td>...</td>\n",
       "      <td>...</td>\n",
       "      <td>...</td>\n",
       "      <td>...</td>\n",
       "      <td>...</td>\n",
       "      <td>...</td>\n",
       "      <td>...</td>\n",
       "      <td>...</td>\n",
       "    </tr>\n",
       "    <tr>\n",
       "      <th>100831</th>\n",
       "      <td>2.5</td>\n",
       "      <td>2.50000</td>\n",
       "      <td>0.000000</td>\n",
       "      <td>2.5</td>\n",
       "      <td>0.00000</td>\n",
       "      <td>1997</td>\n",
       "      <td>2017</td>\n",
       "      <td>20</td>\n",
       "      <td>0.683829</td>\n",
       "      <td>0.000000</td>\n",
       "      <td>...</td>\n",
       "      <td>0.000000</td>\n",
       "      <td>0.0</td>\n",
       "      <td>0.0</td>\n",
       "      <td>0.0</td>\n",
       "      <td>0.0</td>\n",
       "      <td>0.0</td>\n",
       "      <td>0.0</td>\n",
       "      <td>0.729642</td>\n",
       "      <td>0.0</td>\n",
       "      <td>0.0</td>\n",
       "    </tr>\n",
       "    <tr>\n",
       "      <th>100832</th>\n",
       "      <td>4.5</td>\n",
       "      <td>4.50000</td>\n",
       "      <td>0.000000</td>\n",
       "      <td>4.5</td>\n",
       "      <td>0.00000</td>\n",
       "      <td>1971</td>\n",
       "      <td>2017</td>\n",
       "      <td>46</td>\n",
       "      <td>0.545073</td>\n",
       "      <td>0.000000</td>\n",
       "      <td>...</td>\n",
       "      <td>0.000000</td>\n",
       "      <td>0.0</td>\n",
       "      <td>0.0</td>\n",
       "      <td>0.0</td>\n",
       "      <td>0.0</td>\n",
       "      <td>0.0</td>\n",
       "      <td>0.0</td>\n",
       "      <td>0.000000</td>\n",
       "      <td>0.0</td>\n",
       "      <td>0.0</td>\n",
       "    </tr>\n",
       "    <tr>\n",
       "      <th>100833</th>\n",
       "      <td>3.0</td>\n",
       "      <td>3.00000</td>\n",
       "      <td>0.000000</td>\n",
       "      <td>3.0</td>\n",
       "      <td>0.00000</td>\n",
       "      <td>2005</td>\n",
       "      <td>2017</td>\n",
       "      <td>12</td>\n",
       "      <td>0.590016</td>\n",
       "      <td>0.000000</td>\n",
       "      <td>...</td>\n",
       "      <td>0.000000</td>\n",
       "      <td>0.0</td>\n",
       "      <td>0.0</td>\n",
       "      <td>0.0</td>\n",
       "      <td>0.0</td>\n",
       "      <td>0.0</td>\n",
       "      <td>0.0</td>\n",
       "      <td>0.629544</td>\n",
       "      <td>0.0</td>\n",
       "      <td>0.0</td>\n",
       "    </tr>\n",
       "    <tr>\n",
       "      <th>100834</th>\n",
       "      <td>3.5</td>\n",
       "      <td>3.50000</td>\n",
       "      <td>0.000000</td>\n",
       "      <td>3.5</td>\n",
       "      <td>0.00000</td>\n",
       "      <td>2016</td>\n",
       "      <td>2017</td>\n",
       "      <td>1</td>\n",
       "      <td>0.000000</td>\n",
       "      <td>0.000000</td>\n",
       "      <td>...</td>\n",
       "      <td>0.840475</td>\n",
       "      <td>0.0</td>\n",
       "      <td>0.0</td>\n",
       "      <td>0.0</td>\n",
       "      <td>0.0</td>\n",
       "      <td>0.0</td>\n",
       "      <td>0.0</td>\n",
       "      <td>0.541851</td>\n",
       "      <td>0.0</td>\n",
       "      <td>0.0</td>\n",
       "    </tr>\n",
       "    <tr>\n",
       "      <th>100835</th>\n",
       "      <td>3.5</td>\n",
       "      <td>3.50000</td>\n",
       "      <td>0.000000</td>\n",
       "      <td>3.5</td>\n",
       "      <td>0.00000</td>\n",
       "      <td>2016</td>\n",
       "      <td>2017</td>\n",
       "      <td>1</td>\n",
       "      <td>0.000000</td>\n",
       "      <td>0.000000</td>\n",
       "      <td>...</td>\n",
       "      <td>1.000000</td>\n",
       "      <td>0.0</td>\n",
       "      <td>0.0</td>\n",
       "      <td>0.0</td>\n",
       "      <td>0.0</td>\n",
       "      <td>0.0</td>\n",
       "      <td>0.0</td>\n",
       "      <td>0.000000</td>\n",
       "      <td>0.0</td>\n",
       "      <td>0.0</td>\n",
       "    </tr>\n",
       "  </tbody>\n",
       "</table>\n",
       "<p>100836 rows × 28 columns</p>\n",
       "</div>"
      ],
      "text/plain": [
       "        rating  mean_rating       std  median      var  year  year_view  \\\n",
       "0          4.0      3.92093  0.834859     4.0  0.69699  1995       2001   \n",
       "1          4.0      3.92093  0.834859     4.0  0.69699  1995       1997   \n",
       "2          4.5      3.92093  0.834859     4.0  0.69699  1995       2005   \n",
       "3          2.5      3.92093  0.834859     4.0  0.69699  1995       2018   \n",
       "4          4.5      3.92093  0.834859     4.0  0.69699  1995       2011   \n",
       "...        ...          ...       ...     ...      ...   ...        ...   \n",
       "100831     2.5      2.50000  0.000000     2.5  0.00000  1997       2017   \n",
       "100832     4.5      4.50000  0.000000     4.5  0.00000  1971       2017   \n",
       "100833     3.0      3.00000  0.000000     3.0  0.00000  2005       2017   \n",
       "100834     3.5      3.50000  0.000000     3.5  0.00000  2016       2017   \n",
       "100835     3.5      3.50000  0.000000     3.5  0.00000  2016       2017   \n",
       "\n",
       "        time_between         0         1  ...        10   11   12   13   14  \\\n",
       "0                  6  0.000000  0.363885  ...  0.000000  0.0  0.0  0.0  0.0   \n",
       "1                  2  0.000000  0.363885  ...  0.000000  0.0  0.0  0.0  0.0   \n",
       "2                 10  0.000000  0.363885  ...  0.000000  0.0  0.0  0.0  0.0   \n",
       "3                 23  0.000000  0.363885  ...  0.000000  0.0  0.0  0.0  0.0   \n",
       "4                 16  0.000000  0.363885  ...  0.000000  0.0  0.0  0.0  0.0   \n",
       "...              ...       ...       ...  ...       ...  ...  ...  ...  ...   \n",
       "100831            20  0.683829  0.000000  ...  0.000000  0.0  0.0  0.0  0.0   \n",
       "100832            46  0.545073  0.000000  ...  0.000000  0.0  0.0  0.0  0.0   \n",
       "100833            12  0.590016  0.000000  ...  0.000000  0.0  0.0  0.0  0.0   \n",
       "100834             1  0.000000  0.000000  ...  0.840475  0.0  0.0  0.0  0.0   \n",
       "100835             1  0.000000  0.000000  ...  1.000000  0.0  0.0  0.0  0.0   \n",
       "\n",
       "         15   16        17   18   19  \n",
       "0       0.0  0.0  0.000000  0.0  0.0  \n",
       "1       0.0  0.0  0.000000  0.0  0.0  \n",
       "2       0.0  0.0  0.000000  0.0  0.0  \n",
       "3       0.0  0.0  0.000000  0.0  0.0  \n",
       "4       0.0  0.0  0.000000  0.0  0.0  \n",
       "...     ...  ...       ...  ...  ...  \n",
       "100831  0.0  0.0  0.729642  0.0  0.0  \n",
       "100832  0.0  0.0  0.000000  0.0  0.0  \n",
       "100833  0.0  0.0  0.629544  0.0  0.0  \n",
       "100834  0.0  0.0  0.541851  0.0  0.0  \n",
       "100835  0.0  0.0  0.000000  0.0  0.0  \n",
       "\n",
       "[100836 rows x 28 columns]"
      ]
     },
     "execution_count": 31,
     "metadata": {},
     "output_type": "execute_result"
    }
   ],
   "source": [
    "df_with_tf_genres"
   ]
  },
  {
   "cell_type": "markdown",
   "id": "parallel-denmark",
   "metadata": {},
   "source": [
    "### Проба предсказать значения"
   ]
  },
  {
   "cell_type": "code",
   "execution_count": 32,
   "id": "authentic-cement",
   "metadata": {},
   "outputs": [],
   "source": [
    "from sklearn.tree import DecisionTreeRegressor\n",
    "from sklearn.ensemble import RandomForestRegressor\n",
    "from sklearn.model_selection import train_test_split\n",
    "from sklearn.metrics import mean_squared_error\n",
    "from sklearn.metrics import r2_score"
   ]
  },
  {
   "cell_type": "code",
   "execution_count": 33,
   "id": "wanted-modem",
   "metadata": {},
   "outputs": [],
   "source": [
    "x = df_with_tf_genres.drop(columns=['rating'])\n",
    "y = df_with_tf_genres['rating']"
   ]
  },
  {
   "cell_type": "code",
   "execution_count": 34,
   "id": "frank-third",
   "metadata": {},
   "outputs": [],
   "source": [
    "x_train, x_test, y_train, y_test = train_test_split(x, y, test_size=0.3, random_state=42)"
   ]
  },
  {
   "cell_type": "markdown",
   "id": "particular-inclusion",
   "metadata": {},
   "source": [
    "#### Рандомный лес"
   ]
  },
  {
   "cell_type": "code",
   "execution_count": 50,
   "id": "necessary-printing",
   "metadata": {},
   "outputs": [
    {
     "data": {
      "text/plain": [
       "RandomForestRegressor(n_estimators=10)"
      ]
     },
     "execution_count": 50,
     "metadata": {},
     "output_type": "execute_result"
    }
   ],
   "source": [
    "rf = RandomForestRegressor(n_estimators = 10)\n",
    "rf.fit(x_train, y_train)"
   ]
  },
  {
   "cell_type": "code",
   "execution_count": 51,
   "id": "rental-comfort",
   "metadata": {},
   "outputs": [],
   "source": [
    "y_pred = rf.predict(x_test)"
   ]
  },
  {
   "cell_type": "code",
   "execution_count": 52,
   "id": "sufficient-internet",
   "metadata": {},
   "outputs": [
    {
     "data": {
      "text/plain": [
       "0.9944458026260693"
      ]
     },
     "execution_count": 52,
     "metadata": {},
     "output_type": "execute_result"
    }
   ],
   "source": [
    "mean_squared_error(y_test, y_pred, squared=False)"
   ]
  },
  {
   "cell_type": "code",
   "execution_count": 53,
   "id": "incoming-player",
   "metadata": {},
   "outputs": [
    {
     "data": {
      "text/plain": [
       "0.9889224543606071"
      ]
     },
     "execution_count": 53,
     "metadata": {},
     "output_type": "execute_result"
    }
   ],
   "source": [
    "mean_squared_error(y_test, y_pred)"
   ]
  },
  {
   "cell_type": "code",
   "execution_count": 55,
   "id": "biological-laugh",
   "metadata": {
    "scrolled": true
   },
   "outputs": [
    {
     "data": {
      "text/plain": [
       "0.08231379104094982"
      ]
     },
     "execution_count": 55,
     "metadata": {},
     "output_type": "execute_result"
    }
   ],
   "source": [
    "r2_score(y_test, y_pred)"
   ]
  },
  {
   "cell_type": "markdown",
   "id": "knowing-capital",
   "metadata": {},
   "source": [
    "#### Уберем некоторые признаки"
   ]
  },
  {
   "cell_type": "code",
   "execution_count": 89,
   "id": "piano-recipient",
   "metadata": {},
   "outputs": [],
   "source": [
    "x_1 = x.drop(columns=['median', 'var', 'year', 'year_view', 'time_between'])\n",
    "# ['mean_rating', 'std', 'median', 'var', 'year', 'year_view', 'time_between']"
   ]
  },
  {
   "cell_type": "code",
   "execution_count": 90,
   "id": "civic-concord",
   "metadata": {},
   "outputs": [
    {
     "data": {
      "text/plain": [
       "0.9387921739817295"
      ]
     },
     "execution_count": 90,
     "metadata": {},
     "output_type": "execute_result"
    }
   ],
   "source": [
    "x1_train, x1_test, y1_train, y1_test = train_test_split(x_1, y, test_size= 0.3, random_state=42)\n",
    "\n",
    "rf_1 = RandomForestRegressor(n_estimators = 10)\n",
    "rf_1.fit(x1_train, y1_train)\n",
    "\n",
    "y1_pred = rf_1.predict(x1_test)\n",
    "\n",
    "mean_squared_error(y1_test, y1_pred, squared=False)"
   ]
  },
  {
   "cell_type": "code",
   "execution_count": 91,
   "id": "phantom-surprise",
   "metadata": {},
   "outputs": [
    {
     "data": {
      "text/plain": [
       "0.18215521600844453"
      ]
     },
     "execution_count": 91,
     "metadata": {},
     "output_type": "execute_result"
    }
   ],
   "source": [
    "r2_score(y1_test, y1_pred)"
   ]
  },
  {
   "cell_type": "markdown",
   "id": "touched-letter",
   "metadata": {},
   "source": [
    "#### Попробуем добавить tfidf по тегам, закрывая глаза, что там много пустых значений"
   ]
  },
  {
   "cell_type": "code",
   "execution_count": 30,
   "id": "inclusive-suite",
   "metadata": {},
   "outputs": [],
   "source": [
    "df_2['tags'] = df_2['tags'].fillna('')"
   ]
  },
  {
   "cell_type": "code",
   "execution_count": 31,
   "id": "starting-appeal",
   "metadata": {},
   "outputs": [],
   "source": [
    "cv_1 = CountVectorizer()\n",
    "x_count_tags = cv.fit_transform(df_2['tags'])"
   ]
  },
  {
   "cell_type": "code",
   "execution_count": 32,
   "id": "human-peeing",
   "metadata": {},
   "outputs": [],
   "source": [
    "td_1 = TfidfTransformer()\n",
    "x_td_tags = td.fit_transform(x_count_tags)"
   ]
  },
  {
   "cell_type": "code",
   "execution_count": 33,
   "id": "statutory-purchase",
   "metadata": {},
   "outputs": [],
   "source": [
    "df_td_tags = pd.DataFrame(x_td_tags.toarray())"
   ]
  },
  {
   "cell_type": "code",
   "execution_count": 34,
   "id": "strategic-protest",
   "metadata": {},
   "outputs": [],
   "source": [
    "df_with_tf = pd.concat([df_2, df_td_genres, df_td_tags], axis=1).drop(columns=['genres', 'tags'])"
   ]
  },
  {
   "cell_type": "code",
   "execution_count": 35,
   "id": "educational-purple",
   "metadata": {
    "scrolled": true
   },
   "outputs": [
    {
     "data": {
      "text/html": [
       "<div>\n",
       "<style scoped>\n",
       "    .dataframe tbody tr th:only-of-type {\n",
       "        vertical-align: middle;\n",
       "    }\n",
       "\n",
       "    .dataframe tbody tr th {\n",
       "        vertical-align: top;\n",
       "    }\n",
       "\n",
       "    .dataframe thead th {\n",
       "        text-align: right;\n",
       "    }\n",
       "</style>\n",
       "<table border=\"1\" class=\"dataframe\">\n",
       "  <thead>\n",
       "    <tr style=\"text-align: right;\">\n",
       "      <th></th>\n",
       "      <th>rating</th>\n",
       "      <th>mean_rating</th>\n",
       "      <th>std</th>\n",
       "      <th>median</th>\n",
       "      <th>var</th>\n",
       "      <th>year</th>\n",
       "      <th>year_view</th>\n",
       "      <th>time_between</th>\n",
       "      <th>0</th>\n",
       "      <th>1</th>\n",
       "      <th>...</th>\n",
       "      <th>1459</th>\n",
       "      <th>1460</th>\n",
       "      <th>1461</th>\n",
       "      <th>1462</th>\n",
       "      <th>1463</th>\n",
       "      <th>1464</th>\n",
       "      <th>1465</th>\n",
       "      <th>1466</th>\n",
       "      <th>1467</th>\n",
       "      <th>1468</th>\n",
       "    </tr>\n",
       "  </thead>\n",
       "  <tbody>\n",
       "    <tr>\n",
       "      <th>0</th>\n",
       "      <td>4.0</td>\n",
       "      <td>3.92093</td>\n",
       "      <td>0.834859</td>\n",
       "      <td>4.0</td>\n",
       "      <td>0.69699</td>\n",
       "      <td>1995</td>\n",
       "      <td>2001</td>\n",
       "      <td>6</td>\n",
       "      <td>0.0</td>\n",
       "      <td>0.363885</td>\n",
       "      <td>...</td>\n",
       "      <td>0.0</td>\n",
       "      <td>0.0</td>\n",
       "      <td>0.0</td>\n",
       "      <td>0.0</td>\n",
       "      <td>0.0</td>\n",
       "      <td>0.0</td>\n",
       "      <td>0.0</td>\n",
       "      <td>0.0</td>\n",
       "      <td>0.0</td>\n",
       "      <td>0.0</td>\n",
       "    </tr>\n",
       "    <tr>\n",
       "      <th>1</th>\n",
       "      <td>4.0</td>\n",
       "      <td>3.92093</td>\n",
       "      <td>0.834859</td>\n",
       "      <td>4.0</td>\n",
       "      <td>0.69699</td>\n",
       "      <td>1995</td>\n",
       "      <td>1997</td>\n",
       "      <td>2</td>\n",
       "      <td>0.0</td>\n",
       "      <td>0.363885</td>\n",
       "      <td>...</td>\n",
       "      <td>0.0</td>\n",
       "      <td>0.0</td>\n",
       "      <td>0.0</td>\n",
       "      <td>0.0</td>\n",
       "      <td>0.0</td>\n",
       "      <td>0.0</td>\n",
       "      <td>0.0</td>\n",
       "      <td>0.0</td>\n",
       "      <td>0.0</td>\n",
       "      <td>0.0</td>\n",
       "    </tr>\n",
       "    <tr>\n",
       "      <th>2</th>\n",
       "      <td>4.5</td>\n",
       "      <td>3.92093</td>\n",
       "      <td>0.834859</td>\n",
       "      <td>4.0</td>\n",
       "      <td>0.69699</td>\n",
       "      <td>1995</td>\n",
       "      <td>2005</td>\n",
       "      <td>10</td>\n",
       "      <td>0.0</td>\n",
       "      <td>0.363885</td>\n",
       "      <td>...</td>\n",
       "      <td>0.0</td>\n",
       "      <td>0.0</td>\n",
       "      <td>0.0</td>\n",
       "      <td>0.0</td>\n",
       "      <td>0.0</td>\n",
       "      <td>0.0</td>\n",
       "      <td>0.0</td>\n",
       "      <td>0.0</td>\n",
       "      <td>0.0</td>\n",
       "      <td>0.0</td>\n",
       "    </tr>\n",
       "    <tr>\n",
       "      <th>3</th>\n",
       "      <td>2.5</td>\n",
       "      <td>3.92093</td>\n",
       "      <td>0.834859</td>\n",
       "      <td>4.0</td>\n",
       "      <td>0.69699</td>\n",
       "      <td>1995</td>\n",
       "      <td>2018</td>\n",
       "      <td>23</td>\n",
       "      <td>0.0</td>\n",
       "      <td>0.363885</td>\n",
       "      <td>...</td>\n",
       "      <td>0.0</td>\n",
       "      <td>0.0</td>\n",
       "      <td>0.0</td>\n",
       "      <td>0.0</td>\n",
       "      <td>0.0</td>\n",
       "      <td>0.0</td>\n",
       "      <td>0.0</td>\n",
       "      <td>0.0</td>\n",
       "      <td>0.0</td>\n",
       "      <td>0.0</td>\n",
       "    </tr>\n",
       "    <tr>\n",
       "      <th>4</th>\n",
       "      <td>4.5</td>\n",
       "      <td>3.92093</td>\n",
       "      <td>0.834859</td>\n",
       "      <td>4.0</td>\n",
       "      <td>0.69699</td>\n",
       "      <td>1995</td>\n",
       "      <td>2011</td>\n",
       "      <td>16</td>\n",
       "      <td>0.0</td>\n",
       "      <td>0.363885</td>\n",
       "      <td>...</td>\n",
       "      <td>0.0</td>\n",
       "      <td>0.0</td>\n",
       "      <td>0.0</td>\n",
       "      <td>0.0</td>\n",
       "      <td>0.0</td>\n",
       "      <td>0.0</td>\n",
       "      <td>0.0</td>\n",
       "      <td>0.0</td>\n",
       "      <td>0.0</td>\n",
       "      <td>0.0</td>\n",
       "    </tr>\n",
       "  </tbody>\n",
       "</table>\n",
       "<p>5 rows × 1497 columns</p>\n",
       "</div>"
      ],
      "text/plain": [
       "   rating  mean_rating       std  median      var  year  year_view  \\\n",
       "0     4.0      3.92093  0.834859     4.0  0.69699  1995       2001   \n",
       "1     4.0      3.92093  0.834859     4.0  0.69699  1995       1997   \n",
       "2     4.5      3.92093  0.834859     4.0  0.69699  1995       2005   \n",
       "3     2.5      3.92093  0.834859     4.0  0.69699  1995       2018   \n",
       "4     4.5      3.92093  0.834859     4.0  0.69699  1995       2011   \n",
       "\n",
       "   time_between    0         1  ...  1459  1460  1461  1462  1463  1464  1465  \\\n",
       "0             6  0.0  0.363885  ...   0.0   0.0   0.0   0.0   0.0   0.0   0.0   \n",
       "1             2  0.0  0.363885  ...   0.0   0.0   0.0   0.0   0.0   0.0   0.0   \n",
       "2            10  0.0  0.363885  ...   0.0   0.0   0.0   0.0   0.0   0.0   0.0   \n",
       "3            23  0.0  0.363885  ...   0.0   0.0   0.0   0.0   0.0   0.0   0.0   \n",
       "4            16  0.0  0.363885  ...   0.0   0.0   0.0   0.0   0.0   0.0   0.0   \n",
       "\n",
       "   1466  1467  1468  \n",
       "0   0.0   0.0   0.0  \n",
       "1   0.0   0.0   0.0  \n",
       "2   0.0   0.0   0.0  \n",
       "3   0.0   0.0   0.0  \n",
       "4   0.0   0.0   0.0  \n",
       "\n",
       "[5 rows x 1497 columns]"
      ]
     },
     "execution_count": 35,
     "metadata": {},
     "output_type": "execute_result"
    }
   ],
   "source": [
    "df_with_tf.head()"
   ]
  },
  {
   "cell_type": "markdown",
   "id": "upset-albany",
   "metadata": {},
   "source": [
    "#### Пробуем предсказать значения"
   ]
  },
  {
   "cell_type": "code",
   "execution_count": 92,
   "id": "packed-reconstruction",
   "metadata": {},
   "outputs": [],
   "source": [
    "x = df_with_tf.drop(columns=['rating', 'median', 'var', 'year', 'year_view', 'time_between'])\n",
    "# ['mean_rating', 'std', 'median', 'var', 'year', 'year_view', 'time_between']\n",
    "y = df_with_tf['rating']"
   ]
  },
  {
   "cell_type": "code",
   "execution_count": 93,
   "id": "known-queue",
   "metadata": {},
   "outputs": [
    {
     "data": {
      "text/plain": [
       "0.9391993315116507"
      ]
     },
     "execution_count": 93,
     "metadata": {},
     "output_type": "execute_result"
    }
   ],
   "source": [
    "x_train, x_test, y_train, y_test = train_test_split(x, y, test_size=0.3, random_state=42)\n",
    "\n",
    "rf = RandomForestRegressor(n_estimators = 10)\n",
    "rf.fit(x_train, y_train)\n",
    "\n",
    "y_pred = rf.predict(x_test)\n",
    "\n",
    "mean_squared_error(y_test, y_pred, squared=False)"
   ]
  },
  {
   "cell_type": "code",
   "execution_count": 94,
   "id": "removable-bangladesh",
   "metadata": {},
   "outputs": [
    {
     "data": {
      "text/plain": [
       "0.18215521600844453"
      ]
     },
     "execution_count": 94,
     "metadata": {},
     "output_type": "execute_result"
    }
   ],
   "source": [
    "r2_score(y1_test, y1_pred)"
   ]
  },
  {
   "cell_type": "markdown",
   "id": "unlimited-mixture",
   "metadata": {},
   "source": [
    "### При прочих равных мы видим, что результат без tfidf на тегах лучше, чем с ними\n",
    "#### Но все равно оставляет желать лучшего\n",
    "\n",
    "#### Подбор гиперпараметров и кросс-валидацию не делал, пока что стандартным алгоритмом обошелся"
   ]
  },
  {
   "cell_type": "code",
   "execution_count": null,
   "id": "julian-charles",
   "metadata": {},
   "outputs": [],
   "source": []
  },
  {
   "cell_type": "markdown",
   "id": "celtic-layout",
   "metadata": {},
   "source": [
    "### Погенерируем еще признаков"
   ]
  },
  {
   "cell_type": "code",
   "execution_count": 210,
   "id": "human-trademark",
   "metadata": {},
   "outputs": [],
   "source": [
    "names = cv.get_feature_names()\n",
    "count_genres = pd.DataFrame(x_count_genres.toarray(), columns=names)"
   ]
  },
  {
   "cell_type": "code",
   "execution_count": 211,
   "id": "tutorial-sphere",
   "metadata": {
    "scrolled": true
   },
   "outputs": [
    {
     "data": {
      "text/html": [
       "<div>\n",
       "<style scoped>\n",
       "    .dataframe tbody tr th:only-of-type {\n",
       "        vertical-align: middle;\n",
       "    }\n",
       "\n",
       "    .dataframe tbody tr th {\n",
       "        vertical-align: top;\n",
       "    }\n",
       "\n",
       "    .dataframe thead th {\n",
       "        text-align: right;\n",
       "    }\n",
       "</style>\n",
       "<table border=\"1\" class=\"dataframe\">\n",
       "  <thead>\n",
       "    <tr style=\"text-align: right;\">\n",
       "      <th></th>\n",
       "      <th>userId</th>\n",
       "      <th>movieId</th>\n",
       "      <th>rating</th>\n",
       "      <th>action</th>\n",
       "      <th>adventure</th>\n",
       "      <th>animation</th>\n",
       "      <th>children</th>\n",
       "      <th>comedy</th>\n",
       "      <th>crime</th>\n",
       "      <th>documentary</th>\n",
       "      <th>...</th>\n",
       "      <th>horror</th>\n",
       "      <th>imax</th>\n",
       "      <th>musical</th>\n",
       "      <th>mystery</th>\n",
       "      <th>nogenreslisted</th>\n",
       "      <th>romance</th>\n",
       "      <th>scifi</th>\n",
       "      <th>thriller</th>\n",
       "      <th>war</th>\n",
       "      <th>western</th>\n",
       "    </tr>\n",
       "  </thead>\n",
       "  <tbody>\n",
       "    <tr>\n",
       "      <th>0</th>\n",
       "      <td>1</td>\n",
       "      <td>1</td>\n",
       "      <td>4.0</td>\n",
       "      <td>0</td>\n",
       "      <td>1</td>\n",
       "      <td>1</td>\n",
       "      <td>1</td>\n",
       "      <td>1</td>\n",
       "      <td>0</td>\n",
       "      <td>0</td>\n",
       "      <td>...</td>\n",
       "      <td>0</td>\n",
       "      <td>0</td>\n",
       "      <td>0</td>\n",
       "      <td>0</td>\n",
       "      <td>0</td>\n",
       "      <td>0</td>\n",
       "      <td>0</td>\n",
       "      <td>0</td>\n",
       "      <td>0</td>\n",
       "      <td>0</td>\n",
       "    </tr>\n",
       "    <tr>\n",
       "      <th>1</th>\n",
       "      <td>5</td>\n",
       "      <td>1</td>\n",
       "      <td>4.0</td>\n",
       "      <td>0</td>\n",
       "      <td>1</td>\n",
       "      <td>1</td>\n",
       "      <td>1</td>\n",
       "      <td>1</td>\n",
       "      <td>0</td>\n",
       "      <td>0</td>\n",
       "      <td>...</td>\n",
       "      <td>0</td>\n",
       "      <td>0</td>\n",
       "      <td>0</td>\n",
       "      <td>0</td>\n",
       "      <td>0</td>\n",
       "      <td>0</td>\n",
       "      <td>0</td>\n",
       "      <td>0</td>\n",
       "      <td>0</td>\n",
       "      <td>0</td>\n",
       "    </tr>\n",
       "    <tr>\n",
       "      <th>2</th>\n",
       "      <td>7</td>\n",
       "      <td>1</td>\n",
       "      <td>4.5</td>\n",
       "      <td>0</td>\n",
       "      <td>1</td>\n",
       "      <td>1</td>\n",
       "      <td>1</td>\n",
       "      <td>1</td>\n",
       "      <td>0</td>\n",
       "      <td>0</td>\n",
       "      <td>...</td>\n",
       "      <td>0</td>\n",
       "      <td>0</td>\n",
       "      <td>0</td>\n",
       "      <td>0</td>\n",
       "      <td>0</td>\n",
       "      <td>0</td>\n",
       "      <td>0</td>\n",
       "      <td>0</td>\n",
       "      <td>0</td>\n",
       "      <td>0</td>\n",
       "    </tr>\n",
       "    <tr>\n",
       "      <th>3</th>\n",
       "      <td>15</td>\n",
       "      <td>1</td>\n",
       "      <td>2.5</td>\n",
       "      <td>0</td>\n",
       "      <td>1</td>\n",
       "      <td>1</td>\n",
       "      <td>1</td>\n",
       "      <td>1</td>\n",
       "      <td>0</td>\n",
       "      <td>0</td>\n",
       "      <td>...</td>\n",
       "      <td>0</td>\n",
       "      <td>0</td>\n",
       "      <td>0</td>\n",
       "      <td>0</td>\n",
       "      <td>0</td>\n",
       "      <td>0</td>\n",
       "      <td>0</td>\n",
       "      <td>0</td>\n",
       "      <td>0</td>\n",
       "      <td>0</td>\n",
       "    </tr>\n",
       "    <tr>\n",
       "      <th>4</th>\n",
       "      <td>17</td>\n",
       "      <td>1</td>\n",
       "      <td>4.5</td>\n",
       "      <td>0</td>\n",
       "      <td>1</td>\n",
       "      <td>1</td>\n",
       "      <td>1</td>\n",
       "      <td>1</td>\n",
       "      <td>0</td>\n",
       "      <td>0</td>\n",
       "      <td>...</td>\n",
       "      <td>0</td>\n",
       "      <td>0</td>\n",
       "      <td>0</td>\n",
       "      <td>0</td>\n",
       "      <td>0</td>\n",
       "      <td>0</td>\n",
       "      <td>0</td>\n",
       "      <td>0</td>\n",
       "      <td>0</td>\n",
       "      <td>0</td>\n",
       "    </tr>\n",
       "  </tbody>\n",
       "</table>\n",
       "<p>5 rows × 23 columns</p>\n",
       "</div>"
      ],
      "text/plain": [
       "   userId  movieId  rating  action  adventure  animation  children  comedy  \\\n",
       "0       1        1     4.0       0          1          1         1       1   \n",
       "1       5        1     4.0       0          1          1         1       1   \n",
       "2       7        1     4.5       0          1          1         1       1   \n",
       "3      15        1     2.5       0          1          1         1       1   \n",
       "4      17        1     4.5       0          1          1         1       1   \n",
       "\n",
       "   crime  documentary  ...  horror  imax  musical  mystery  nogenreslisted  \\\n",
       "0      0            0  ...       0     0        0        0               0   \n",
       "1      0            0  ...       0     0        0        0               0   \n",
       "2      0            0  ...       0     0        0        0               0   \n",
       "3      0            0  ...       0     0        0        0               0   \n",
       "4      0            0  ...       0     0        0        0               0   \n",
       "\n",
       "   romance  scifi  thriller  war  western  \n",
       "0        0      0         0    0        0  \n",
       "1        0      0         0    0        0  \n",
       "2        0      0         0    0        0  \n",
       "3        0      0         0    0        0  \n",
       "4        0      0         0    0        0  \n",
       "\n",
       "[5 rows x 23 columns]"
      ]
     },
     "execution_count": 211,
     "metadata": {},
     "output_type": "execute_result"
    }
   ],
   "source": [
    "df_avr_rat = pd.concat([df_1[['userId', 'movieId', 'rating']], count_genres], axis=1)\n",
    "df_avr_rat.head()"
   ]
  },
  {
   "cell_type": "markdown",
   "id": "figured-radar",
   "metadata": {},
   "source": [
    "#### Посчитаем среднюю оценку каждого пользователя по отдельным жанрам"
   ]
  },
  {
   "cell_type": "code",
   "execution_count": 212,
   "id": "united-bread",
   "metadata": {},
   "outputs": [],
   "source": [
    "import copy"
   ]
  },
  {
   "cell_type": "code",
   "execution_count": 213,
   "id": "incorporate-flavor",
   "metadata": {},
   "outputs": [],
   "source": [
    "count = {'action':[0, 0],\n",
    " 'adventure':[0, 0],\n",
    " 'animation':[0, 0],\n",
    " 'children':[0, 0],\n",
    " 'comedy':[0, 0],\n",
    " 'crime':[0, 0],\n",
    " 'documentary':[0, 0],\n",
    " 'drama':[0, 0],\n",
    " 'fantasy':[0, 0],\n",
    " 'filmnoir':[0, 0],\n",
    " 'horror':[0, 0],\n",
    " 'imax':[0, 0],\n",
    " 'musical':[0, 0],\n",
    " 'mystery':[0, 0],\n",
    " 'nogenreslisted':[0, 0],\n",
    " 'romance':[0, 0],\n",
    " 'scifi':[0, 0],\n",
    " 'thriller':[0, 0],\n",
    " 'war':[0, 0],\n",
    " 'western':[0, 0]}\n",
    "\n",
    "users = {}\n",
    "for i in range(1, 611):\n",
    "    users[i] = copy.deepcopy(count)"
   ]
  },
  {
   "cell_type": "code",
   "execution_count": 214,
   "id": "physical-orientation",
   "metadata": {},
   "outputs": [],
   "source": [
    "def get_avr_rat(row, users, names):\n",
    "    num = int(row['userId'])\n",
    "    rating = row['rating']\n",
    "    for name in names:\n",
    "        if row[name] != 0:\n",
    "            users[num][name][0] +=1\n",
    "            users[num][name][1] += rating\n",
    "    return num"
   ]
  },
  {
   "cell_type": "code",
   "execution_count": 215,
   "id": "sunrise-senate",
   "metadata": {
    "scrolled": true
   },
   "outputs": [
    {
     "data": {
      "text/plain": [
       "0           1\n",
       "1           5\n",
       "2           7\n",
       "3          15\n",
       "4          17\n",
       "         ... \n",
       "100831    610\n",
       "100832    610\n",
       "100833    610\n",
       "100834    610\n",
       "100835    610\n",
       "Length: 100836, dtype: int64"
      ]
     },
     "execution_count": 215,
     "metadata": {},
     "output_type": "execute_result"
    }
   ],
   "source": [
    "df_avr_rat.apply(get_avr_rat, users=users, names=names, axis=1)"
   ]
  },
  {
   "cell_type": "code",
   "execution_count": 216,
   "id": "surprising-integration",
   "metadata": {
    "scrolled": true
   },
   "outputs": [
    {
     "data": {
      "text/plain": [
       "{'action': [90, 389.0],\n",
       " 'adventure': [85, 373.0],\n",
       " 'animation': [29, 136.0],\n",
       " 'children': [42, 191.0],\n",
       " 'comedy': [83, 355.0],\n",
       " 'crime': [45, 196.0],\n",
       " 'documentary': [0, 0],\n",
       " 'drama': [68, 308.0],\n",
       " 'fantasy': [47, 202.0],\n",
       " 'filmnoir': [1, 5.0],\n",
       " 'horror': [17, 59.0],\n",
       " 'imax': [0, 0],\n",
       " 'musical': [22, 103.0],\n",
       " 'mystery': [18, 75.0],\n",
       " 'nogenreslisted': [0, 0],\n",
       " 'romance': [26, 112.0],\n",
       " 'scifi': [40, 169.0],\n",
       " 'thriller': [55, 228.0],\n",
       " 'war': [22, 99.0],\n",
       " 'western': [7, 30.0]}"
      ]
     },
     "execution_count": 216,
     "metadata": {},
     "output_type": "execute_result"
    }
   ],
   "source": [
    "users[1]"
   ]
  },
  {
   "cell_type": "markdown",
   "id": "proprietary-mention",
   "metadata": {},
   "source": [
    "#### Заполним наши стобцы с жанрами средними оценками"
   ]
  },
  {
   "cell_type": "code",
   "execution_count": 217,
   "id": "alike-coordinator",
   "metadata": {},
   "outputs": [],
   "source": [
    "def fill_average(row, users, name):\n",
    "    i = int(row['userId'])\n",
    "    count = users[i][name][0]\n",
    "    summ = users[i][name][1]\n",
    "    if count != 0:\n",
    "        return summ/count\n",
    "    else:\n",
    "        return 0"
   ]
  },
  {
   "cell_type": "code",
   "execution_count": 218,
   "id": "painful-dakota",
   "metadata": {},
   "outputs": [
    {
     "data": {
      "application/vnd.jupyter.widget-view+json": {
       "model_id": "94680f70ba5e449fa4a8a37103e21409",
       "version_major": 2,
       "version_minor": 0
      },
      "text/plain": [
       "  0%|          | 0/20 [00:00<?, ?it/s]"
      ]
     },
     "metadata": {},
     "output_type": "display_data"
    }
   ],
   "source": [
    "for name in tqdm(names):\n",
    "    df_avr_rat[name] = df_avr_rat.apply(fill_average, users=users, name=name, axis=1)"
   ]
  },
  {
   "cell_type": "code",
   "execution_count": 219,
   "id": "painted-hotel",
   "metadata": {
    "scrolled": true
   },
   "outputs": [
    {
     "data": {
      "text/html": [
       "<div>\n",
       "<style scoped>\n",
       "    .dataframe tbody tr th:only-of-type {\n",
       "        vertical-align: middle;\n",
       "    }\n",
       "\n",
       "    .dataframe tbody tr th {\n",
       "        vertical-align: top;\n",
       "    }\n",
       "\n",
       "    .dataframe thead th {\n",
       "        text-align: right;\n",
       "    }\n",
       "</style>\n",
       "<table border=\"1\" class=\"dataframe\">\n",
       "  <thead>\n",
       "    <tr style=\"text-align: right;\">\n",
       "      <th></th>\n",
       "      <th>userId</th>\n",
       "      <th>movieId</th>\n",
       "      <th>rating</th>\n",
       "      <th>action</th>\n",
       "      <th>adventure</th>\n",
       "      <th>animation</th>\n",
       "      <th>children</th>\n",
       "      <th>comedy</th>\n",
       "      <th>crime</th>\n",
       "      <th>documentary</th>\n",
       "      <th>...</th>\n",
       "      <th>horror</th>\n",
       "      <th>imax</th>\n",
       "      <th>musical</th>\n",
       "      <th>mystery</th>\n",
       "      <th>nogenreslisted</th>\n",
       "      <th>romance</th>\n",
       "      <th>scifi</th>\n",
       "      <th>thriller</th>\n",
       "      <th>war</th>\n",
       "      <th>western</th>\n",
       "    </tr>\n",
       "  </thead>\n",
       "  <tbody>\n",
       "    <tr>\n",
       "      <th>0</th>\n",
       "      <td>1</td>\n",
       "      <td>1</td>\n",
       "      <td>4.0</td>\n",
       "      <td>4.322222</td>\n",
       "      <td>4.388235</td>\n",
       "      <td>4.689655</td>\n",
       "      <td>4.547619</td>\n",
       "      <td>4.277108</td>\n",
       "      <td>4.355556</td>\n",
       "      <td>0.0</td>\n",
       "      <td>...</td>\n",
       "      <td>3.470588</td>\n",
       "      <td>0.000000</td>\n",
       "      <td>4.681818</td>\n",
       "      <td>4.166667</td>\n",
       "      <td>0.0</td>\n",
       "      <td>4.307692</td>\n",
       "      <td>4.225000</td>\n",
       "      <td>4.145455</td>\n",
       "      <td>4.500000</td>\n",
       "      <td>4.285714</td>\n",
       "    </tr>\n",
       "    <tr>\n",
       "      <th>1</th>\n",
       "      <td>5</td>\n",
       "      <td>1</td>\n",
       "      <td>4.0</td>\n",
       "      <td>3.111111</td>\n",
       "      <td>3.250000</td>\n",
       "      <td>4.333333</td>\n",
       "      <td>4.111111</td>\n",
       "      <td>3.466667</td>\n",
       "      <td>3.833333</td>\n",
       "      <td>0.0</td>\n",
       "      <td>...</td>\n",
       "      <td>3.000000</td>\n",
       "      <td>3.666667</td>\n",
       "      <td>4.400000</td>\n",
       "      <td>4.000000</td>\n",
       "      <td>0.0</td>\n",
       "      <td>3.090909</td>\n",
       "      <td>2.500000</td>\n",
       "      <td>3.555556</td>\n",
       "      <td>3.333333</td>\n",
       "      <td>3.000000</td>\n",
       "    </tr>\n",
       "    <tr>\n",
       "      <th>2</th>\n",
       "      <td>7</td>\n",
       "      <td>1</td>\n",
       "      <td>4.5</td>\n",
       "      <td>3.257812</td>\n",
       "      <td>3.314815</td>\n",
       "      <td>3.392857</td>\n",
       "      <td>3.200000</td>\n",
       "      <td>3.163265</td>\n",
       "      <td>3.307692</td>\n",
       "      <td>0.0</td>\n",
       "      <td>...</td>\n",
       "      <td>4.000000</td>\n",
       "      <td>2.454545</td>\n",
       "      <td>3.666667</td>\n",
       "      <td>3.178571</td>\n",
       "      <td>0.0</td>\n",
       "      <td>2.650000</td>\n",
       "      <td>3.154762</td>\n",
       "      <td>3.430233</td>\n",
       "      <td>3.291667</td>\n",
       "      <td>1.500000</td>\n",
       "    </tr>\n",
       "    <tr>\n",
       "      <th>3</th>\n",
       "      <td>15</td>\n",
       "      <td>1</td>\n",
       "      <td>2.5</td>\n",
       "      <td>3.203390</td>\n",
       "      <td>3.342105</td>\n",
       "      <td>2.954545</td>\n",
       "      <td>2.690476</td>\n",
       "      <td>3.357143</td>\n",
       "      <td>3.578947</td>\n",
       "      <td>0.0</td>\n",
       "      <td>...</td>\n",
       "      <td>3.818182</td>\n",
       "      <td>3.305556</td>\n",
       "      <td>2.700000</td>\n",
       "      <td>3.416667</td>\n",
       "      <td>0.0</td>\n",
       "      <td>3.884615</td>\n",
       "      <td>3.584746</td>\n",
       "      <td>3.431818</td>\n",
       "      <td>4.100000</td>\n",
       "      <td>2.500000</td>\n",
       "    </tr>\n",
       "    <tr>\n",
       "      <th>4</th>\n",
       "      <td>17</td>\n",
       "      <td>1</td>\n",
       "      <td>4.5</td>\n",
       "      <td>4.230769</td>\n",
       "      <td>4.285714</td>\n",
       "      <td>4.400000</td>\n",
       "      <td>4.214286</td>\n",
       "      <td>4.157895</td>\n",
       "      <td>4.250000</td>\n",
       "      <td>3.5</td>\n",
       "      <td>...</td>\n",
       "      <td>4.166667</td>\n",
       "      <td>4.166667</td>\n",
       "      <td>4.000000</td>\n",
       "      <td>4.050000</td>\n",
       "      <td>0.0</td>\n",
       "      <td>3.928571</td>\n",
       "      <td>4.400000</td>\n",
       "      <td>4.277778</td>\n",
       "      <td>4.444444</td>\n",
       "      <td>4.250000</td>\n",
       "    </tr>\n",
       "  </tbody>\n",
       "</table>\n",
       "<p>5 rows × 23 columns</p>\n",
       "</div>"
      ],
      "text/plain": [
       "   userId  movieId  rating    action  adventure  animation  children  \\\n",
       "0       1        1     4.0  4.322222   4.388235   4.689655  4.547619   \n",
       "1       5        1     4.0  3.111111   3.250000   4.333333  4.111111   \n",
       "2       7        1     4.5  3.257812   3.314815   3.392857  3.200000   \n",
       "3      15        1     2.5  3.203390   3.342105   2.954545  2.690476   \n",
       "4      17        1     4.5  4.230769   4.285714   4.400000  4.214286   \n",
       "\n",
       "     comedy     crime  documentary  ...    horror      imax   musical  \\\n",
       "0  4.277108  4.355556          0.0  ...  3.470588  0.000000  4.681818   \n",
       "1  3.466667  3.833333          0.0  ...  3.000000  3.666667  4.400000   \n",
       "2  3.163265  3.307692          0.0  ...  4.000000  2.454545  3.666667   \n",
       "3  3.357143  3.578947          0.0  ...  3.818182  3.305556  2.700000   \n",
       "4  4.157895  4.250000          3.5  ...  4.166667  4.166667  4.000000   \n",
       "\n",
       "    mystery  nogenreslisted   romance     scifi  thriller       war   western  \n",
       "0  4.166667             0.0  4.307692  4.225000  4.145455  4.500000  4.285714  \n",
       "1  4.000000             0.0  3.090909  2.500000  3.555556  3.333333  3.000000  \n",
       "2  3.178571             0.0  2.650000  3.154762  3.430233  3.291667  1.500000  \n",
       "3  3.416667             0.0  3.884615  3.584746  3.431818  4.100000  2.500000  \n",
       "4  4.050000             0.0  3.928571  4.400000  4.277778  4.444444  4.250000  \n",
       "\n",
       "[5 rows x 23 columns]"
      ]
     },
     "execution_count": 219,
     "metadata": {},
     "output_type": "execute_result"
    }
   ],
   "source": [
    "df_avr_rat.head()"
   ]
  },
  {
   "cell_type": "markdown",
   "id": "cheap-anime",
   "metadata": {},
   "source": [
    "#### Пробуем предсказать на средних оценках"
   ]
  },
  {
   "cell_type": "code",
   "execution_count": 223,
   "id": "arranged-aurora",
   "metadata": {},
   "outputs": [],
   "source": [
    "x = df_avr_rat.drop(columns=['userId', 'movieId', 'rating'])\n",
    "y = df_avr_rat['rating']\n",
    "\n",
    "x_train, x_test, y_train, y_test = train_test_split(x, y, test_size=0.3, random_state=42)"
   ]
  },
  {
   "cell_type": "code",
   "execution_count": 225,
   "id": "sublime-junior",
   "metadata": {},
   "outputs": [
    {
     "data": {
      "text/plain": [
       "RandomForestRegressor(n_estimators=10)"
      ]
     },
     "execution_count": 225,
     "metadata": {},
     "output_type": "execute_result"
    }
   ],
   "source": [
    "rf = RandomForestRegressor(n_estimators=10)\n",
    "rf.fit(x_train, y_train)"
   ]
  },
  {
   "cell_type": "code",
   "execution_count": 226,
   "id": "hollywood-depression",
   "metadata": {},
   "outputs": [],
   "source": [
    "y_pred = rf.predict(x_test)"
   ]
  },
  {
   "cell_type": "code",
   "execution_count": 228,
   "id": "earned-extension",
   "metadata": {},
   "outputs": [
    {
     "data": {
      "text/plain": [
       "0.9387620426811839"
      ]
     },
     "execution_count": 228,
     "metadata": {},
     "output_type": "execute_result"
    }
   ],
   "source": [
    "mean_squared_error(y_test, y_pred, squared=False)"
   ]
  },
  {
   "cell_type": "markdown",
   "id": "respected-extreme",
   "metadata": {},
   "source": [
    "#### Сконкатенируем средние оценки и tfidf по жанрам"
   ]
  },
  {
   "cell_type": "code",
   "execution_count": 229,
   "id": "going-consumption",
   "metadata": {},
   "outputs": [],
   "source": [
    "last_df = pd.concat([df_avr_rat, df_td_genres], axis=1)"
   ]
  },
  {
   "cell_type": "code",
   "execution_count": 231,
   "id": "floating-beast",
   "metadata": {},
   "outputs": [],
   "source": [
    "x = last_df.drop(columns=['userId', 'movieId', 'rating'])\n",
    "y = last_df['rating']\n",
    "\n",
    "x_train, x_test, y_train, y_test = train_test_split(x, y, test_size=0.3, random_state=42)"
   ]
  },
  {
   "cell_type": "code",
   "execution_count": 232,
   "id": "accessory-french",
   "metadata": {},
   "outputs": [
    {
     "data": {
      "text/plain": [
       "0.9577382556478876"
      ]
     },
     "execution_count": 232,
     "metadata": {},
     "output_type": "execute_result"
    }
   ],
   "source": [
    "rf = RandomForestRegressor(n_estimators=10)\n",
    "rf.fit(x_train, y_train)\n",
    "\n",
    "y_pred = rf.predict(x_test)\n",
    "\n",
    "mean_squared_error(y_test, y_pred, squared=False)"
   ]
  },
  {
   "cell_type": "markdown",
   "id": "premium-cheat",
   "metadata": {},
   "source": [
    "#### Попробуем найти лучшую модель с лучшим набором гиперпараметров"
   ]
  },
  {
   "cell_type": "code",
   "execution_count": 247,
   "id": "executed-measurement",
   "metadata": {},
   "outputs": [],
   "source": [
    "from sklearn.model_selection import RandomizedSearchCV\n",
    "from sklearn.linear_model import LinearRegression\n",
    "from sklearn.tree import DecisionTreeRegressor\n",
    "from sklearn.linear_model import Lasso\n",
    "from sklearn.linear_model import Ridge\n",
    "from sklearn.neighbors import KNeighborsRegressor\n",
    "from sklearn.ensemble import RandomForestRegressor\n",
    "from sklearn.ensemble import BaggingRegressor\n",
    "from scipy.stats import uniform"
   ]
  },
  {
   "cell_type": "code",
   "execution_count": null,
   "id": "burning-ranking",
   "metadata": {},
   "outputs": [
    {
     "data": {
      "application/vnd.jupyter.widget-view+json": {
       "model_id": "a20ff0d111e242379c4d51bec59e2313",
       "version_major": 2,
       "version_minor": 0
      },
      "text/plain": [
       "  0%|          | 0/6 [00:00<?, ?it/s]"
      ]
     },
     "metadata": {},
     "output_type": "display_data"
    }
   ],
   "source": [
    "models=[ \n",
    "      {'name':'Lr',\"model\": LinearRegression()  , 'params':{'fit_intercept':[True, False], 'normalize':[True, False]}},\n",
    "      {'name':'R',\"model\": Ridge(), 'params':{'alpha': uniform(loc=0, scale=4), 'solver':['svd', 'cholesky', 'lsqr', 'sparse_cg', 'sag', 'saga']}},\n",
    "      {'name':'L',\"model\": Lasso(), 'params':{'alpha': uniform(loc=0, scale=4), 'selection':['cyclic', 'random']}},\n",
    "      {'name':'RF',\"model\": RandomForestRegressor(), 'params':{'n_estimators':[10,25,50,100,150,200], 'criterion':['squared_error', 'absolute_error', 'poisson'], 'max_depth':[3,5,7,9,11]}},\n",
    "      {'name':'KN',\"model\": KNeighborsRegressor(), 'params':{'n_neighbors':list(range(1,30)),'weights': ['uniform', 'distance'], 'p':[1,2,3]}},\n",
    "      {'name':'BR',\"model\": BaggingRegressor(), 'params':{'n_estimators':[10,25,50,100,150,200], 'max_samples':list(range(100, 1000, 100))}}\n",
    "]\n",
    "\n",
    "res=[]\n",
    "for v in  tqdm(models):\n",
    "    res.append((v['name'], RandomizedSearchCV(v['model'], v['params'], cv=3).fit(x_train, y_train)))"
   ]
  },
  {
   "cell_type": "code",
   "execution_count": null,
   "id": "polish-period",
   "metadata": {},
   "outputs": [],
   "source": [
    "for r in res:\n",
    "    print(r[0], r[1].best_score_, r[1].best_params_)"
   ]
  }
 ],
 "metadata": {
  "kernelspec": {
   "display_name": "Python 3",
   "language": "python",
   "name": "python3"
  },
  "language_info": {
   "codemirror_mode": {
    "name": "ipython",
    "version": 3
   },
   "file_extension": ".py",
   "mimetype": "text/x-python",
   "name": "python",
   "nbconvert_exporter": "python",
   "pygments_lexer": "ipython3",
   "version": "3.9.0"
  }
 },
 "nbformat": 4,
 "nbformat_minor": 5
}
